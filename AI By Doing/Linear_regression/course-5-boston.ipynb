{
 "cells": [
  {
   "cell_type": "code",
   "execution_count": 34,
   "id": "173b70a3",
   "metadata": {},
   "outputs": [
    {
     "data": {
      "text/html": [
       "<div>\n",
       "<style scoped>\n",
       "    .dataframe tbody tr th:only-of-type {\n",
       "        vertical-align: middle;\n",
       "    }\n",
       "\n",
       "    .dataframe tbody tr th {\n",
       "        vertical-align: top;\n",
       "    }\n",
       "\n",
       "    .dataframe thead th {\n",
       "        text-align: right;\n",
       "    }\n",
       "</style>\n",
       "<table border=\"1\" class=\"dataframe\">\n",
       "  <thead>\n",
       "    <tr style=\"text-align: right;\">\n",
       "      <th></th>\n",
       "      <th>crim</th>\n",
       "      <th>zn</th>\n",
       "      <th>indus</th>\n",
       "      <th>chas</th>\n",
       "      <th>nox</th>\n",
       "      <th>rm</th>\n",
       "      <th>age</th>\n",
       "      <th>dis</th>\n",
       "      <th>rad</th>\n",
       "      <th>tax</th>\n",
       "      <th>ptratio</th>\n",
       "      <th>black</th>\n",
       "      <th>lstat</th>\n",
       "      <th>medv</th>\n",
       "    </tr>\n",
       "  </thead>\n",
       "  <tbody>\n",
       "    <tr>\n",
       "      <th>0</th>\n",
       "      <td>0.00632</td>\n",
       "      <td>18.0</td>\n",
       "      <td>2.31</td>\n",
       "      <td>0</td>\n",
       "      <td>0.538</td>\n",
       "      <td>6.575</td>\n",
       "      <td>65.2</td>\n",
       "      <td>4.0900</td>\n",
       "      <td>1</td>\n",
       "      <td>296</td>\n",
       "      <td>15.3</td>\n",
       "      <td>396.90</td>\n",
       "      <td>4.98</td>\n",
       "      <td>24.0</td>\n",
       "    </tr>\n",
       "    <tr>\n",
       "      <th>1</th>\n",
       "      <td>0.02731</td>\n",
       "      <td>0.0</td>\n",
       "      <td>7.07</td>\n",
       "      <td>0</td>\n",
       "      <td>0.469</td>\n",
       "      <td>6.421</td>\n",
       "      <td>78.9</td>\n",
       "      <td>4.9671</td>\n",
       "      <td>2</td>\n",
       "      <td>242</td>\n",
       "      <td>17.8</td>\n",
       "      <td>396.90</td>\n",
       "      <td>9.14</td>\n",
       "      <td>21.6</td>\n",
       "    </tr>\n",
       "    <tr>\n",
       "      <th>2</th>\n",
       "      <td>0.02729</td>\n",
       "      <td>0.0</td>\n",
       "      <td>7.07</td>\n",
       "      <td>0</td>\n",
       "      <td>0.469</td>\n",
       "      <td>7.185</td>\n",
       "      <td>61.1</td>\n",
       "      <td>4.9671</td>\n",
       "      <td>2</td>\n",
       "      <td>242</td>\n",
       "      <td>17.8</td>\n",
       "      <td>392.83</td>\n",
       "      <td>4.03</td>\n",
       "      <td>34.7</td>\n",
       "    </tr>\n",
       "    <tr>\n",
       "      <th>3</th>\n",
       "      <td>0.03237</td>\n",
       "      <td>0.0</td>\n",
       "      <td>2.18</td>\n",
       "      <td>0</td>\n",
       "      <td>0.458</td>\n",
       "      <td>6.998</td>\n",
       "      <td>45.8</td>\n",
       "      <td>6.0622</td>\n",
       "      <td>3</td>\n",
       "      <td>222</td>\n",
       "      <td>18.7</td>\n",
       "      <td>394.63</td>\n",
       "      <td>2.94</td>\n",
       "      <td>33.4</td>\n",
       "    </tr>\n",
       "    <tr>\n",
       "      <th>4</th>\n",
       "      <td>0.06905</td>\n",
       "      <td>0.0</td>\n",
       "      <td>2.18</td>\n",
       "      <td>0</td>\n",
       "      <td>0.458</td>\n",
       "      <td>7.147</td>\n",
       "      <td>54.2</td>\n",
       "      <td>6.0622</td>\n",
       "      <td>3</td>\n",
       "      <td>222</td>\n",
       "      <td>18.7</td>\n",
       "      <td>396.90</td>\n",
       "      <td>5.33</td>\n",
       "      <td>36.2</td>\n",
       "    </tr>\n",
       "  </tbody>\n",
       "</table>\n",
       "</div>"
      ],
      "text/plain": [
       "      crim    zn  indus  chas    nox     rm   age     dis  rad  tax  ptratio  \\\n",
       "0  0.00632  18.0   2.31     0  0.538  6.575  65.2  4.0900    1  296     15.3   \n",
       "1  0.02731   0.0   7.07     0  0.469  6.421  78.9  4.9671    2  242     17.8   \n",
       "2  0.02729   0.0   7.07     0  0.469  7.185  61.1  4.9671    2  242     17.8   \n",
       "3  0.03237   0.0   2.18     0  0.458  6.998  45.8  6.0622    3  222     18.7   \n",
       "4  0.06905   0.0   2.18     0  0.458  7.147  54.2  6.0622    3  222     18.7   \n",
       "\n",
       "    black  lstat  medv  \n",
       "0  396.90   4.98  24.0  \n",
       "1  396.90   9.14  21.6  \n",
       "2  392.83   4.03  34.7  \n",
       "3  394.63   2.94  33.4  \n",
       "4  396.90   5.33  36.2  "
      ]
     },
     "execution_count": 34,
     "metadata": {},
     "output_type": "execute_result"
    }
   ],
   "source": [
    "import pandas as pd\n",
    "from sklearn.linear_model import LinearRegression\n",
    "import numpy as np\n",
    "\n",
    "df = pd.read_csv(\"course-5-boston.csv\")\n",
    "df.head()"
   ]
  },
  {
   "cell_type": "code",
   "execution_count": 35,
   "id": "0ebe4cc2",
   "metadata": {},
   "outputs": [
    {
     "data": {
      "text/html": [
       "<div>\n",
       "<style scoped>\n",
       "    .dataframe tbody tr th:only-of-type {\n",
       "        vertical-align: middle;\n",
       "    }\n",
       "\n",
       "    .dataframe tbody tr th {\n",
       "        vertical-align: top;\n",
       "    }\n",
       "\n",
       "    .dataframe thead th {\n",
       "        text-align: right;\n",
       "    }\n",
       "</style>\n",
       "<table border=\"1\" class=\"dataframe\">\n",
       "  <thead>\n",
       "    <tr style=\"text-align: right;\">\n",
       "      <th></th>\n",
       "      <th>crim</th>\n",
       "      <th>rm</th>\n",
       "      <th>lstat</th>\n",
       "    </tr>\n",
       "  </thead>\n",
       "  <tbody>\n",
       "    <tr>\n",
       "      <th>count</th>\n",
       "      <td>506.000000</td>\n",
       "      <td>506.000000</td>\n",
       "      <td>506.000000</td>\n",
       "    </tr>\n",
       "    <tr>\n",
       "      <th>mean</th>\n",
       "      <td>3.593761</td>\n",
       "      <td>6.284634</td>\n",
       "      <td>12.653063</td>\n",
       "    </tr>\n",
       "    <tr>\n",
       "      <th>std</th>\n",
       "      <td>8.596783</td>\n",
       "      <td>0.702617</td>\n",
       "      <td>7.141062</td>\n",
       "    </tr>\n",
       "    <tr>\n",
       "      <th>min</th>\n",
       "      <td>0.006320</td>\n",
       "      <td>3.561000</td>\n",
       "      <td>1.730000</td>\n",
       "    </tr>\n",
       "    <tr>\n",
       "      <th>25%</th>\n",
       "      <td>0.082045</td>\n",
       "      <td>5.885500</td>\n",
       "      <td>6.950000</td>\n",
       "    </tr>\n",
       "    <tr>\n",
       "      <th>50%</th>\n",
       "      <td>0.256510</td>\n",
       "      <td>6.208500</td>\n",
       "      <td>11.360000</td>\n",
       "    </tr>\n",
       "    <tr>\n",
       "      <th>75%</th>\n",
       "      <td>3.647423</td>\n",
       "      <td>6.623500</td>\n",
       "      <td>16.955000</td>\n",
       "    </tr>\n",
       "    <tr>\n",
       "      <th>max</th>\n",
       "      <td>88.976200</td>\n",
       "      <td>8.780000</td>\n",
       "      <td>37.970000</td>\n",
       "    </tr>\n",
       "  </tbody>\n",
       "</table>\n",
       "</div>"
      ],
      "text/plain": [
       "             crim          rm       lstat\n",
       "count  506.000000  506.000000  506.000000\n",
       "mean     3.593761    6.284634   12.653063\n",
       "std      8.596783    0.702617    7.141062\n",
       "min      0.006320    3.561000    1.730000\n",
       "25%      0.082045    5.885500    6.950000\n",
       "50%      0.256510    6.208500   11.360000\n",
       "75%      3.647423    6.623500   16.955000\n",
       "max     88.976200    8.780000   37.970000"
      ]
     },
     "execution_count": 35,
     "metadata": {},
     "output_type": "execute_result"
    }
   ],
   "source": [
    "features = df[[\"crim\", \"rm\", \"lstat\"]]\n",
    "features.describe()"
   ]
  },
  {
   "cell_type": "code",
   "execution_count": 36,
   "id": "5726de60",
   "metadata": {},
   "outputs": [
    {
     "data": {
      "text/plain": [
       "((354, 3), (354,), (152, 3), (152,))"
      ]
     },
     "execution_count": 36,
     "metadata": {},
     "output_type": "execute_result"
    }
   ],
   "source": [
    "target = df[\"medv\"]  # 目标值数据\n",
    "\n",
    "split_num = int(len(features) * 0.7)  # 得到 70% 位置\n",
    "\n",
    "X_train = features[:split_num]  # 训练集特征\n",
    "y_train = target[:split_num]  # 训练集目标\n",
    "\n",
    "X_test = features[split_num:]  # 测试集特征\n",
    "y_test = target[split_num:]  # 测试集目标\n",
    "\n",
    "X_train.shape, y_train.shape, X_test.shape, y_test.shape"
   ]
  },
  {
   "cell_type": "code",
   "execution_count": 37,
   "id": "b666442b",
   "metadata": {},
   "outputs": [
    {
     "data": {
      "text/plain": [
       "(array([ 0.69979497, 10.13564218, -0.20532653]),\n",
       " np.float64(-38.000969889690346))"
      ]
     },
     "execution_count": 37,
     "metadata": {},
     "output_type": "execute_result"
    }
   ],
   "source": [
    "model = LinearRegression()  # 建立模型\n",
    "model.fit(X_train, y_train)  # 训练模型\n",
    "model.coef_, model.intercept_  # 输出训练后的模型参数和截距项"
   ]
  },
  {
   "cell_type": "code",
   "execution_count": 38,
   "id": "49e54e02",
   "metadata": {},
   "outputs": [
    {
     "data": {
      "text/plain": [
       "array([17.77439141, 21.09512448, 27.63412265, 26.78577951, 25.38313368,\n",
       "       24.3286313 , 28.4257879 , 25.12834727, 16.82806601, 20.76498858,\n",
       "       52.3350748 , -0.18169806, 12.01475786,  7.87878077, 15.13155699,\n",
       "       32.93748235, 37.07872049, 29.50613719, 25.50800832, 12.35867972,\n",
       "        9.08901644, 47.08374238, 35.31759193, 33.3738765 , 38.34913316,\n",
       "       33.10414639, 91.3556125 , 35.11735022, 19.69326952, 18.49805269,\n",
       "       14.03767555, 20.9235166 , 20.41406182, 21.92218226, 15.20451678,\n",
       "       18.05362998, 21.26289453, 23.18192502, 15.87149504, 27.70381826,\n",
       "       27.65958772, 30.17151829, 27.04987446, 21.52730227, 37.82614512,\n",
       "       22.09872387, 34.71166346, 32.07959454, 29.45253042, 29.51137956,\n",
       "       41.49935191, 62.4121152 , 13.64508882, 24.71242033, 18.69151684,\n",
       "       37.4909413 , 54.05864658, 34.94758034, 15.01355249, 30.17849355,\n",
       "       32.22191275, 33.90252834, 33.02530285, 28.4416789 , 69.60201087,\n",
       "       34.7617152 , 31.65353442, 24.5644437 , 24.78130285, 24.00864792,\n",
       "       21.03315696, 27.84982052, 26.50972924, 48.2345499 , 25.50590175,\n",
       "       28.25547265, 28.66087656, 34.2545407 , 29.15996676, 27.8072316 ,\n",
       "       31.54282066, 32.22024557, 33.8708737 , 29.54354233, 24.7407235 ,\n",
       "       20.90593331, 31.85967562, 29.72491232, 25.59151894, 30.83279914,\n",
       "       25.40734645, 23.01153504, 27.01673798, 28.92672135, 27.49385728,\n",
       "       28.34125465, 31.52461119, 29.61897187, 25.83925513, 39.26663855,\n",
       "       33.00756176, 27.73720999, 21.93359421, 24.42469533, 27.95623349,\n",
       "       25.37499479, 29.91401113, 26.20027081, 27.81044317, 29.97326914,\n",
       "       27.7027324 , 19.68280094, 21.44673441, 21.56041782, 29.24007222,\n",
       "       26.02322353, 24.20402765, 25.31745183, 26.79101418, 33.60357546,\n",
       "       18.91793831, 23.98036109, 27.29202266, 21.15709214, 28.14694161,\n",
       "       32.47276562, 27.13611459, 32.81994315, 36.13809753, 20.23338607,\n",
       "       20.43084078, 26.37366467, 24.87561302, 22.88298598, 13.67619651,\n",
       "       12.08004137,  7.6709438 , 19.00432321, 19.97736929, 17.49844989,\n",
       "       19.46809982, 15.97963066, 12.49219926, 18.01764782, 20.51997661,\n",
       "       15.46843536, 20.30123637, 26.88163963, 22.19647509, 31.58974789,\n",
       "       29.60675772, 21.5321567 ])"
      ]
     },
     "execution_count": 38,
     "metadata": {},
     "output_type": "execute_result"
    }
   ],
   "source": [
    "preds = model.predict(X_test)  # 输入测试集特征进行预测\n",
    "preds  # 预测结果"
   ]
  },
  {
   "cell_type": "code",
   "execution_count": 39,
   "id": "0a9802b8",
   "metadata": {},
   "outputs": [
    {
     "name": "stdout",
     "output_type": "stream",
     "text": [
      "scikit-learn MAE:  13.022063072780304\n",
      "scikit-learn MSE:  303.83312472236463\n"
     ]
    }
   ],
   "source": [
    "from sklearn.metrics import mean_absolute_error, mean_squared_error\n",
    "\n",
    "mae_ = mean_absolute_error(y_test, preds)\n",
    "mse_ = mean_squared_error(y_test, preds)\n",
    "\n",
    "print(\"scikit-learn MAE: \", mae_)\n",
    "print(\"scikit-learn MSE: \", mse_)"
   ]
  }
 ],
 "metadata": {
  "kernelspec": {
   "display_name": "Python 3",
   "language": "python",
   "name": "python3"
  },
  "language_info": {
   "codemirror_mode": {
    "name": "ipython",
    "version": 3
   },
   "file_extension": ".py",
   "mimetype": "text/x-python",
   "name": "python",
   "nbconvert_exporter": "python",
   "pygments_lexer": "ipython3",
   "version": "3.11.13"
  }
 },
 "nbformat": 4,
 "nbformat_minor": 5
}
