{
 "cells": [
  {
   "cell_type": "markdown",
   "id": "7d96198f",
   "metadata": {},
   "source": [
    "# 1. Dataset Preparation"
   ]
  },
  {
   "cell_type": "code",
   "execution_count": 18,
   "id": "14a9ba46",
   "metadata": {},
   "outputs": [
    {
     "data": {
      "text/html": [
       "<div>\n",
       "<style scoped>\n",
       "    .dataframe tbody tr th:only-of-type {\n",
       "        vertical-align: middle;\n",
       "    }\n",
       "\n",
       "    .dataframe tbody tr th {\n",
       "        vertical-align: top;\n",
       "    }\n",
       "\n",
       "    .dataframe thead th {\n",
       "        text-align: right;\n",
       "    }\n",
       "</style>\n",
       "<table border=\"1\" class=\"dataframe\">\n",
       "  <thead>\n",
       "    <tr style=\"text-align: right;\">\n",
       "      <th></th>\n",
       "      <th>公交</th>\n",
       "      <th>写字楼</th>\n",
       "      <th>医院</th>\n",
       "      <th>商场</th>\n",
       "      <th>地铁</th>\n",
       "      <th>学校</th>\n",
       "      <th>小区名字</th>\n",
       "      <th>建造时间</th>\n",
       "      <th>房型</th>\n",
       "      <th>楼层</th>\n",
       "      <th>每平米价格</th>\n",
       "      <th>面积</th>\n",
       "    </tr>\n",
       "  </thead>\n",
       "  <tbody>\n",
       "    <tr>\n",
       "      <th>0</th>\n",
       "      <td>18</td>\n",
       "      <td>18</td>\n",
       "      <td>10</td>\n",
       "      <td>0</td>\n",
       "      <td>2</td>\n",
       "      <td>49</td>\n",
       "      <td>远洋山水</td>\n",
       "      <td>2006</td>\n",
       "      <td>2室1厅</td>\n",
       "      <td>26</td>\n",
       "      <td>60937</td>\n",
       "      <td>96</td>\n",
       "    </tr>\n",
       "    <tr>\n",
       "      <th>1</th>\n",
       "      <td>17</td>\n",
       "      <td>42</td>\n",
       "      <td>10</td>\n",
       "      <td>0</td>\n",
       "      <td>4</td>\n",
       "      <td>37</td>\n",
       "      <td>椿树园</td>\n",
       "      <td>1998</td>\n",
       "      <td>3室1厅</td>\n",
       "      <td>14</td>\n",
       "      <td>88686</td>\n",
       "      <td>130</td>\n",
       "    </tr>\n",
       "    <tr>\n",
       "      <th>2</th>\n",
       "      <td>18</td>\n",
       "      <td>36</td>\n",
       "      <td>9</td>\n",
       "      <td>0</td>\n",
       "      <td>1</td>\n",
       "      <td>24</td>\n",
       "      <td>永乐小区</td>\n",
       "      <td>1989</td>\n",
       "      <td>3室1厅</td>\n",
       "      <td>18</td>\n",
       "      <td>46621</td>\n",
       "      <td>74</td>\n",
       "    </tr>\n",
       "    <tr>\n",
       "      <th>3</th>\n",
       "      <td>15</td>\n",
       "      <td>49</td>\n",
       "      <td>13</td>\n",
       "      <td>0</td>\n",
       "      <td>2</td>\n",
       "      <td>45</td>\n",
       "      <td>主语家园</td>\n",
       "      <td>2007</td>\n",
       "      <td>4室3厅</td>\n",
       "      <td>2</td>\n",
       "      <td>86147</td>\n",
       "      <td>462</td>\n",
       "    </tr>\n",
       "    <tr>\n",
       "      <th>4</th>\n",
       "      <td>6</td>\n",
       "      <td>0</td>\n",
       "      <td>0</td>\n",
       "      <td>0</td>\n",
       "      <td>0</td>\n",
       "      <td>0</td>\n",
       "      <td>天伦锦城</td>\n",
       "      <td>2007</td>\n",
       "      <td>1室1厅</td>\n",
       "      <td>13</td>\n",
       "      <td>42500</td>\n",
       "      <td>64</td>\n",
       "    </tr>\n",
       "  </tbody>\n",
       "</table>\n",
       "</div>"
      ],
      "text/plain": [
       "   公交  写字楼  医院  商场  地铁  学校  小区名字  建造时间    房型  楼层  每平米价格   面积\n",
       "0  18   18  10   0   2  49  远洋山水  2006  2室1厅  26  60937   96\n",
       "1  17   42  10   0   4  37   椿树园  1998  3室1厅  14  88686  130\n",
       "2  18   36   9   0   1  24  永乐小区  1989  3室1厅  18  46621   74\n",
       "3  15   49  13   0   2  45  主语家园  2007  4室3厅   2  86147  462\n",
       "4   6    0   0   0   0   0  天伦锦城  2007  1室1厅  13  42500   64"
      ]
     },
     "execution_count": 18,
     "metadata": {},
     "output_type": "execute_result"
    }
   ],
   "source": [
    "import pandas as pd\n",
    "\n",
    "df = pd.read_csv(\"challenge-1-beijing.csv\")\n",
    "df.head()"
   ]
  },
  {
   "cell_type": "code",
   "execution_count": 19,
   "id": "4360d71d",
   "metadata": {},
   "outputs": [
    {
     "data": {
      "text/html": [
       "<div>\n",
       "<style scoped>\n",
       "    .dataframe tbody tr th:only-of-type {\n",
       "        vertical-align: middle;\n",
       "    }\n",
       "\n",
       "    .dataframe tbody tr th {\n",
       "        vertical-align: top;\n",
       "    }\n",
       "\n",
       "    .dataframe thead th {\n",
       "        text-align: right;\n",
       "    }\n",
       "</style>\n",
       "<table border=\"1\" class=\"dataframe\">\n",
       "  <thead>\n",
       "    <tr style=\"text-align: right;\">\n",
       "      <th></th>\n",
       "      <th>公交</th>\n",
       "      <th>写字楼</th>\n",
       "      <th>医院</th>\n",
       "      <th>商场</th>\n",
       "      <th>地铁</th>\n",
       "      <th>学校</th>\n",
       "      <th>建造时间</th>\n",
       "      <th>楼层</th>\n",
       "      <th>面积</th>\n",
       "      <th>每平米价格</th>\n",
       "    </tr>\n",
       "  </thead>\n",
       "  <tbody>\n",
       "    <tr>\n",
       "      <th>0</th>\n",
       "      <td>18</td>\n",
       "      <td>18</td>\n",
       "      <td>10</td>\n",
       "      <td>0</td>\n",
       "      <td>2</td>\n",
       "      <td>49</td>\n",
       "      <td>2006</td>\n",
       "      <td>26</td>\n",
       "      <td>96</td>\n",
       "      <td>60937</td>\n",
       "    </tr>\n",
       "    <tr>\n",
       "      <th>1</th>\n",
       "      <td>17</td>\n",
       "      <td>42</td>\n",
       "      <td>10</td>\n",
       "      <td>0</td>\n",
       "      <td>4</td>\n",
       "      <td>37</td>\n",
       "      <td>1998</td>\n",
       "      <td>14</td>\n",
       "      <td>130</td>\n",
       "      <td>88686</td>\n",
       "    </tr>\n",
       "    <tr>\n",
       "      <th>2</th>\n",
       "      <td>18</td>\n",
       "      <td>36</td>\n",
       "      <td>9</td>\n",
       "      <td>0</td>\n",
       "      <td>1</td>\n",
       "      <td>24</td>\n",
       "      <td>1989</td>\n",
       "      <td>18</td>\n",
       "      <td>74</td>\n",
       "      <td>46621</td>\n",
       "    </tr>\n",
       "    <tr>\n",
       "      <th>3</th>\n",
       "      <td>15</td>\n",
       "      <td>49</td>\n",
       "      <td>13</td>\n",
       "      <td>0</td>\n",
       "      <td>2</td>\n",
       "      <td>45</td>\n",
       "      <td>2007</td>\n",
       "      <td>2</td>\n",
       "      <td>462</td>\n",
       "      <td>86147</td>\n",
       "    </tr>\n",
       "    <tr>\n",
       "      <th>4</th>\n",
       "      <td>6</td>\n",
       "      <td>0</td>\n",
       "      <td>0</td>\n",
       "      <td>0</td>\n",
       "      <td>0</td>\n",
       "      <td>0</td>\n",
       "      <td>2007</td>\n",
       "      <td>13</td>\n",
       "      <td>64</td>\n",
       "      <td>42500</td>\n",
       "    </tr>\n",
       "  </tbody>\n",
       "</table>\n",
       "</div>"
      ],
      "text/plain": [
       "   公交  写字楼  医院  商场  地铁  学校  建造时间  楼层   面积  每平米价格\n",
       "0  18   18  10   0   2  49  2006  26   96  60937\n",
       "1  17   42  10   0   4  37  1998  14  130  88686\n",
       "2  18   36   9   0   1  24  1989  18   74  46621\n",
       "3  15   49  13   0   2  45  2007   2  462  86147\n",
       "4   6    0   0   0   0   0  2007  13   64  42500"
      ]
     },
     "execution_count": 19,
     "metadata": {},
     "output_type": "execute_result"
    }
   ],
   "source": [
    "# features = df[['公交','写字楼','医院','商场','地铁','学校','建造时间','楼层','面积']]\n",
    "features = df[df.columns.drop(['小区名字','房型','每平米价格'])]\n",
    "target = df['每平米价格']\n",
    "pd.concat([features, target], axis=1).head()"
   ]
  },
  {
   "cell_type": "markdown",
   "id": "d3b200c3",
   "metadata": {},
   "source": [
    "# 2. Dataset Splitting"
   ]
  },
  {
   "cell_type": "code",
   "execution_count": 20,
   "id": "733bdb26",
   "metadata": {},
   "outputs": [
    {
     "data": {
      "text/plain": [
       "(2100, 900, 2100, 900)"
      ]
     },
     "execution_count": 20,
     "metadata": {},
     "output_type": "execute_result"
    }
   ],
   "source": [
    "split_num = int(len(df)*0.7) \n",
    "\n",
    "X_train = features[:split_num]\n",
    "y_train = target[:split_num]\n",
    "X_test = features[split_num:]\n",
    "y_test = target[split_num:]\n",
    "len(X_train), len(X_test), len(y_train), len(y_test)"
   ]
  },
  {
   "cell_type": "markdown",
   "id": "f00b05ee",
   "metadata": {},
   "source": [
    "# 3. Model Training"
   ]
  },
  {
   "cell_type": "code",
   "execution_count": 21,
   "id": "6095059c",
   "metadata": {},
   "outputs": [
    {
     "data": {
      "text/plain": [
       "(array([  6.59398431, 299.47265083, 371.60427218]), 9)"
      ]
     },
     "execution_count": 21,
     "metadata": {},
     "output_type": "execute_result"
    }
   ],
   "source": [
    "from sklearn.linear_model import LinearRegression\n",
    "\n",
    "model = LinearRegression()\n",
    "model.fit(X_train, y_train)\n",
    "# First 3 $ w $ coefficients, Total number of coefficients\n",
    "model.coef_[:3], len(model.coef_)"
   ]
  },
  {
   "cell_type": "markdown",
   "id": "b24a2ac2",
   "metadata": {},
   "source": [
    "4. Model Evaluation\n",
    "- MAPE\n",
    "    - Mean Absolute Percentage Error\n",
    "    - $ L(w) = \\frac{1}{n} \\sum_{i=1}^{n} \\left| \\frac{y_i - y(x_i, w)}{y_i} \\right| \\times 100\\% $"
   ]
  },
  {
   "cell_type": "code",
   "execution_count": 22,
   "id": "f0b34895",
   "metadata": {},
   "outputs": [
    {
     "data": {
      "text/plain": [
       "np.float64(45.50618854676239)"
      ]
     },
     "execution_count": 22,
     "metadata": {},
     "output_type": "execute_result"
    }
   ],
   "source": [
    "import numpy as np\n",
    "\n",
    "def mape(y_true, y_pred):\n",
    "\n",
    "    n = len(y_true)\n",
    "    mape = 100 * np.sum(np.abs((y_true-y_pred)/y_true)) / n\n",
    "    \n",
    "    return mape\n",
    "\n",
    "y_true = y_test.values\n",
    "y_pred = model.predict(X_test)\n",
    "mape(y_true, y_pred)\n",
    "# 45.5%, too high"
   ]
  }
 ],
 "metadata": {
  "kernelspec": {
   "display_name": "Python 3",
   "language": "python",
   "name": "python3"
  },
  "language_info": {
   "codemirror_mode": {
    "name": "ipython",
    "version": 3
   },
   "file_extension": ".py",
   "mimetype": "text/x-python",
   "name": "python",
   "nbconvert_exporter": "python",
   "pygments_lexer": "ipython3",
   "version": "3.11.13"
  }
 },
 "nbformat": 4,
 "nbformat_minor": 5
}
