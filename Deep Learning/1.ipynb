{
 "cells": [
  {
   "cell_type": "markdown",
   "id": "fc3b15a4",
   "metadata": {},
   "source": [
    "# Import Libraries"
   ]
  },
  {
   "cell_type": "code",
   "execution_count": null,
   "id": "077d0859",
   "metadata": {},
   "outputs": [],
   "source": [
    "import tensorflow as tf\n",
    "from tensorflow.keras import datasets, layers, models\n",
    "import matplotlib.pyplot as plt"
   ]
  },
  {
   "cell_type": "markdown",
   "id": "d001a5f6",
   "metadata": {},
   "source": [
    "# GPU Support"
   ]
  },
  {
   "cell_type": "code",
   "execution_count": null,
   "id": "2b646ad9",
   "metadata": {},
   "outputs": [],
   "source": [
    "gpus = tf.config.list_physical_devices(\"GPU\")\n",
    "\n",
    "if gpus:\n",
    "    # If there are multiple GPUs, use the first one\n",
    "    gpu0 = gpus[0] \n",
    "    \n",
    "    # Set GPU memory growth to be dynamic\n",
    "    tf.config.experimental.set_memory_growth(gpu0, True) \n",
    "\n",
    "    tf.config.set_visible_devices([gpu0],\"GPU\")"
   ]
  }
 ],
 "metadata": {
  "language_info": {
   "name": "python"
  }
 },
 "nbformat": 4,
 "nbformat_minor": 5
}
